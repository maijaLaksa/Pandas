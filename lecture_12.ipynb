{
 "cells": [
  {
   "cell_type": "markdown",
   "id": "337f0090-424a-4df3-b632-9d275c5be2cd",
   "metadata": {},
   "source": [
    "# Matplotlib"
   ]
  },
  {
   "cell_type": "markdown",
   "id": "b363553d-b348-4596-8696-5a67afbdc9fe",
   "metadata": {},
   "source": [
    "## Vienkāršais līniju grafiks"
   ]
  },
  {
   "cell_type": "code",
   "execution_count": null,
   "id": "bb84f6a9-90f3-4e82-bdb3-3483e911aad4",
   "metadata": {},
   "outputs": [],
   "source": [
    "import matplotlib.pyplot as plt\n",
    "%matplotlib inline\n",
    "\n",
    "plt.plot([1, 2, 3, 4])\n",
    "plt.title(\"My first plot\")\n",
    "plt.ylabel('Numbers')\n",
    "plt.savefig(\"line.png\")\n",
    "plt.show()"
   ]
  },
  {
   "cell_type": "markdown",
   "id": "91d729cd-7bd8-4502-9d07-34c12cbcdad5",
   "metadata": {},
   "source": [
    "## Grafiku varianti"
   ]
  },
  {
   "cell_type": "code",
   "execution_count": null,
   "id": "a667632f-4668-411d-ac83-b9adc6b115e6",
   "metadata": {},
   "outputs": [],
   "source": [
    "plt.plot([1, 2, 3, 4], \"o\")\n",
    "plt.show()\n",
    "plt.plot([1, 2, 3, 4], \":\")\n",
    "plt.show()\n",
    "plt.plot([1, 2, 3, 4], \"--\")\n",
    "plt.show()\n",
    "plt.plot([1, 2, 3, 4], \"-.\")\n",
    "plt.show()"
   ]
  },
  {
   "cell_type": "code",
   "execution_count": null,
   "id": "318b12d0-5e4b-4dd0-a6b0-bc4c7d008660",
   "metadata": {},
   "outputs": [],
   "source": [
    "plt.plot([1, 2, 3, 4], [1, 4, 9, 16], \"g\", linewidth=5)\n",
    "plt.grid()\n",
    "plt.show()"
   ]
  },
  {
   "cell_type": "code",
   "execution_count": null,
   "id": "8343529f-2e62-449c-8f09-333e20ce9adf",
   "metadata": {},
   "outputs": [],
   "source": [
    "plt.plot([1, 2, 3, 4], [1, 4, 9, 16], 'ro')\n",
    "plt.axis([0, 6, 0, 20])\n",
    "plt.show()"
   ]
  },
  {
   "cell_type": "markdown",
   "id": "1e74fa4a-744d-4551-933a-15ecfe789e70",
   "metadata": {},
   "source": [
    "## Leģendas izveide "
   ]
  },
  {
   "cell_type": "code",
   "execution_count": null,
   "id": "adf02b27-2c03-4f51-bab4-e28fc7a3f4e7",
   "metadata": {},
   "outputs": [],
   "source": [
    "y1 = [2, 3, 4.5]\n",
    "y2 = [1, 1.5, 5]\n",
    "\n",
    "plt.plot(y1, \"b\", label=\"blue\")\n",
    "plt.plot(y2, \"g\", label=\"green\")\n",
    " \n",
    "plt.legend()\n",
    "\n",
    "plt.show()"
   ]
  },
  {
   "cell_type": "code",
   "execution_count": null,
   "id": "19972862-2eb9-41f6-8fbd-335d9906d9c6",
   "metadata": {},
   "outputs": [],
   "source": [
    "y1 = [2, 3, 4.5]\n",
    "y2 = [1, 1.5, 5]\n",
    "\n",
    "plt.plot(y1, \"skyblue\")\n",
    "plt.plot(y2, \"seagreen\")\n",
    " \n",
    "plt.legend([\"blue\", \"green\"], loc =\"lower right\")\n",
    "\n",
    "plt.show()"
   ]
  },
  {
   "cell_type": "code",
   "execution_count": null,
   "id": "dbdf1e0e-fcd7-4793-9bd2-45d96e47c1b7",
   "metadata": {},
   "outputs": [],
   "source": [
    "import pandas as pd\n",
    "djia_data = pd.read_csv(r\"C:\\Users\\customer\\Desktop\\R_un_Python\\HistoricalPrices.csv\")\n",
    "djia_data.head()"
   ]
  },
  {
   "cell_type": "code",
   "execution_count": null,
   "id": "ca52d827-5282-4ed2-8e62-3c597a673840",
   "metadata": {},
   "outputs": [],
   "source": [
    "djia_data = djia_data.rename(columns = {' Open': 'Open', ' High': 'High', ' Low': 'Low', ' Close': 'Close'})"
   ]
  },
  {
   "cell_type": "code",
   "execution_count": null,
   "id": "6d378473-2d9f-481d-ae31-2678adc6140b",
   "metadata": {},
   "outputs": [],
   "source": [
    "djia_data['Date'] = pd.to_datetime(djia_data['Date'])\n",
    "djia_data = djia_data.sort_values(by = 'Date')"
   ]
  },
  {
   "cell_type": "code",
   "execution_count": null,
   "id": "73e2d4f2-59e5-4357-a42d-8398a382e25f",
   "metadata": {},
   "outputs": [],
   "source": [
    "import matplotlib.pyplot as plt\n",
    "%matplotlib inline\n",
    "\n",
    "import pandas as pd\n",
    "import numpy as np\n",
    "from datetime import datetime"
   ]
  },
  {
   "cell_type": "code",
   "execution_count": null,
   "id": "29af838b-8615-4281-87bb-e32a0caa459f",
   "metadata": {},
   "outputs": [],
   "source": [
    "plt.plot(djia_data['Date'], djia_data['Close'])\n",
    "plt.show()"
   ]
  },
  {
   "cell_type": "code",
   "execution_count": null,
   "id": "cd59a842-693c-4170-88c6-b17da209f2e1",
   "metadata": {},
   "outputs": [],
   "source": [
    "plt.plot(djia_data['Date'], djia_data['Open'])\n",
    "plt.plot(djia_data['Date'], djia_data['Close'])\n",
    "\n",
    "plt.show()"
   ]
  },
  {
   "cell_type": "code",
   "execution_count": null,
   "id": "74f070a0-1250-4735-8eb1-6f05c30d7b9c",
   "metadata": {},
   "outputs": [],
   "source": [
    "plt.plot(djia_data['Date'], djia_data['Open'], label = 'Open')\n",
    "plt.plot(djia_data['Date'], djia_data['Close'], label = 'Close')\n",
    "plt.legend()\n",
    "plt.show()"
   ]
  },
  {
   "cell_type": "markdown",
   "id": "1bbd4b85-3dd3-4710-a213-a9b717cbed2d",
   "metadata": {},
   "source": [
    "## Stabiņu grafiki"
   ]
  },
  {
   "cell_type": "code",
   "execution_count": null,
   "id": "52522687-bec9-4bd0-a59c-517b39378f65",
   "metadata": {},
   "outputs": [],
   "source": [
    "names = ['group_a', 'group_b', 'group_c']\n",
    "values = [1, 10, 100]\n",
    "\n",
    "plt.bar(names, values)\n",
    "plt.show()"
   ]
  },
  {
   "cell_type": "code",
   "execution_count": null,
   "id": "e1cb495f-f141-4329-ac65-b0835b0613da",
   "metadata": {},
   "outputs": [],
   "source": [
    "data = [23, 45, 56, 78, 213]\n",
    "plt.barh([1,2,3,4,5], data, color='r')\n",
    "plt.show()"
   ]
  },
  {
   "cell_type": "code",
   "execution_count": null,
   "id": "c3febc83-d04e-4fcd-9831-b3b5eba630c6",
   "metadata": {},
   "outputs": [],
   "source": [
    "import seaborn as sn\n",
    "diamonds = sn.load_dataset(\"diamonds\")\n",
    "cut = diamonds[\"cut\"]\n",
    "n = cut.groupby(cut).count()\n",
    "names = diamonds[\"cut\"].unique()\n",
    "print(cut)\n",
    "plt.bar(names, n)\n",
    "plt.show()"
   ]
  },
  {
   "cell_type": "markdown",
   "id": "edcecca5-7167-41a9-a29b-8af10b727c94",
   "metadata": {},
   "source": [
    "## Izkliedes grafiki "
   ]
  },
  {
   "cell_type": "code",
   "execution_count": null,
   "id": "07b9954a-2eeb-4130-892c-1f88ab4a9414",
   "metadata": {},
   "outputs": [],
   "source": [
    "price = [2.50, 1.23, 4.02, 3.25, 5.00, 4.40]\n",
    "sales_per_day = [34, 62, 49, 22, 13, 19]\n",
    "\n",
    "plt.scatter(price, sales_per_day, s=sales_per_day)\n",
    "plt.show()"
   ]
  },
  {
   "cell_type": "markdown",
   "id": "972efa52-87ae-4df1-8e90-73f691da5d49",
   "metadata": {},
   "source": [
    "## Krāsu karte "
   ]
  },
  {
   "cell_type": "code",
   "execution_count": null,
   "id": "f3f9ee2e-ee1f-47fe-af01-dd879b26c56f",
   "metadata": {},
   "outputs": [],
   "source": [
    "mpg=sn.load_dataset(\"mpg\")\n",
    "print(mpg)\n",
    "x = mpg[\"displacement\"]\n",
    "y = mpg[\"acceleration\"]\n",
    "color = mpg[\"horsepower\"]\n",
    "plt.scatter(x, y, c=color,  cmap=plt.colormaps.get_cmap('jet'))\n",
    "plt.savefig(\"mpg.jpg\")\n",
    "plt.show()"
   ]
  },
  {
   "cell_type": "markdown",
   "id": "bae512de-22b7-448f-bc27-0f74d2769f4e",
   "metadata": {},
   "source": [
    "## subplot() metode"
   ]
  },
  {
   "cell_type": "code",
   "execution_count": null,
   "id": "27b9803d-cf75-437a-a82d-9dcaf3253bb3",
   "metadata": {},
   "outputs": [],
   "source": [
    "import matplotlib.pyplot as plt\n",
    "\n",
    "#1.grafiks:\n",
    "x = [0, 1, 2, 3]\n",
    "y = [3, 8, 1, 10]\n",
    "\n",
    "plt.subplot(1, 2, 1)\n",
    "plt.plot(x,y)\n",
    "plt.title(\"INCOME\")\n",
    "\n",
    "#2.graiks:\n",
    "x = [0, 1, 2, 3]\n",
    "y = [10, 20, 30, 40]\n",
    "\n",
    "plt.subplot(1, 2, 2)\n",
    "plt.plot(x,y)\n",
    "plt.title(\"SALES\")\n",
    "\n",
    "plt.suptitle(\"REVENUE 2022\")\n",
    "plt.show()"
   ]
  },
  {
   "cell_type": "code",
   "execution_count": null,
   "id": "f269e306-3635-4b27-bcce-a7358846aa9f",
   "metadata": {},
   "outputs": [],
   "source": [
    "import matplotlib.pyplot as plt\n",
    "\n",
    "#plot 1:\n",
    "x = [0, 1, 2, 3]\n",
    "y = [3, 8, 1, 10]\n",
    "\n",
    "plt.subplot(2, 1, 1)\n",
    "plt.plot(x,y)\n",
    "\n",
    "#plot 2:\n",
    "x = [0, 1, 2, 3]\n",
    "y = [10, 20, 30, 40]\n",
    "\n",
    "plt.subplot(2, 1, 2)\n",
    "plt.plot(x,y)\n",
    "\n",
    "plt.show()"
   ]
  },
  {
   "cell_type": "code",
   "execution_count": null,
   "id": "6ef51056-53d8-4b05-9408-0f44dfd1709f",
   "metadata": {},
   "outputs": [],
   "source": [
    "import matplotlib.pyplot as plt\n",
    "\n",
    "x = [0, 1, 2, 3]\n",
    "y = [3, 8, 1, 10]\n",
    "\n",
    "plt.subplot(2, 3, 1)\n",
    "plt.plot(x,y)\n",
    "\n",
    "x = [0, 1, 2, 3]\n",
    "y = [10, 20, 30, 40]\n",
    "\n",
    "plt.subplot(2, 3, 2)\n",
    "plt.plot(x,y)\n",
    "\n",
    "x = [0, 1, 2, 3]\n",
    "y = [3, 8, 1, 10]\n",
    "\n",
    "plt.subplot(2, 3, 3)\n",
    "plt.plot(x,y)\n",
    "\n",
    "x = [0, 1, 2, 3]\n",
    "y = [10, 20, 30, 40]\n",
    "\n",
    "plt.subplot(2, 3, 4)\n",
    "plt.plot(x,y)\n",
    "\n",
    "x = [0, 1, 2, 3]\n",
    "y = [3, 8, 1, 10]\n",
    "\n",
    "plt.subplot(2, 3, 5)\n",
    "plt.plot(x,y)\n",
    "\n",
    "x = [0, 1, 2, 3]\n",
    "y = [10, 20, 30, 40]\n",
    "\n",
    "plt.subplot(2, 3, 6)\n",
    "plt.plot(x,y)\n",
    "\n",
    "plt.show()"
   ]
  },
  {
   "cell_type": "markdown",
   "id": "880ab0d3-d719-4ae7-8ac1-a964c6d7c91f",
   "metadata": {},
   "source": [
    "## Kastes diarammas"
   ]
  },
  {
   "cell_type": "code",
   "execution_count": null,
   "id": "2187f2e4-82d5-49be-aad5-4f98a1c2c789",
   "metadata": {},
   "outputs": [],
   "source": [
    "car=sn.load_dataset(\"car_crashes\")\n",
    "total=car[\"total\"]\n",
    "plt.boxplot(total, vert = False, notch=True)\n",
    "plt.show()  "
   ]
  },
  {
   "cell_type": "markdown",
   "id": "bb36be48-525f-4202-b6a0-f19c1247e842",
   "metadata": {},
   "source": [
    "## Ass limiti"
   ]
  },
  {
   "cell_type": "code",
   "execution_count": null,
   "id": "6bb53354-85df-410a-a5ea-23b2f6e85f97",
   "metadata": {},
   "outputs": [],
   "source": [
    "car=sn.load_dataset(\"car_crashes\")\n",
    "total=car[\"total\"]\n",
    "plt.boxplot(total, vert = False, notch=True)\n",
    "plt.xlim(4, 25)\n",
    "plt.show()"
   ]
  },
  {
   "cell_type": "code",
   "execution_count": null,
   "id": "f6936f4f-e610-4257-ae8d-a8547dd6fb2e",
   "metadata": {},
   "outputs": [],
   "source": [
    "import matplotlib.pyplot as plt\n",
    "import numpy as np\n",
    "import pandas as pd\n",
    "\n",
    "# Results of the long jump finals at two Olympic Games\n",
    "data = pd.DataFrame({\n",
    "    'London 2012 (Men)': [8.31, 8.16, 8.12, 8.11, 8.10, 8.07, 8.01, 7.93],\n",
    "    'Rio 2016 (Men)': [8.38, 8.37, 8.29, 8.25, 8.17, 8.10, 8.06, 8.05],\n",
    "    'London 2012 (Women)': [7.12, 7.07, 6.89, 6.88, 6.77, 6.76, 6.72, 6.67],\n",
    "    'Rio 2016 (Women)': [7.17, 7.15, 7.08, 6.95, 6.81, 6.79, 6.74, 6.69]\n",
    "})\n",
    "\n",
    "# Plot\n",
    "bp = plt.boxplot(\n",
    "    # A data frame needs to be converted to an array before it can be plotted this way\n",
    "    np.array(data),\n",
    "    # You can use the column headings from the data frame as labels\n",
    "    labels=list(data)\n",
    ")\n",
    "# Axis details\n",
    "plt.title('Long Jump Finals')\n",
    "plt.ylabel('Distance [m]')\n",
    "plt.xlabel('Olympics')\n",
    "plt.minorticks_on()\n",
    "plt.tick_params(axis='x', which='minor', bottom=False)\n",
    "plt.tick_params(axis='x', which='major', labelsize='small')\n",
    "\n",
    "plt.show()"
   ]
  },
  {
   "cell_type": "markdown",
   "id": "d207229d-4d05-495a-b980-5d2a9a80ec12",
   "metadata": {},
   "source": [
    "## Pīrāga diagramma "
   ]
  },
  {
   "cell_type": "code",
   "execution_count": null,
   "id": "269c2150-888d-4515-872b-08508925604a",
   "metadata": {},
   "outputs": [],
   "source": [
    "import matplotlib.pyplot as plt\n",
    "labels = 'Frogs', 'Hogs', 'Dogs', 'Logs'\n",
    "sizes = [15, 30, 45, 10]\n",
    "\n",
    "plt.pie(sizes, labels=labels)\n",
    "plt.show()"
   ]
  },
  {
   "cell_type": "code",
   "execution_count": null,
   "id": "81c25303-d512-490f-b55b-057fa1520a2d",
   "metadata": {},
   "outputs": [],
   "source": [
    "import matplotlib.pyplot as plt\n",
    "labels = 'Frogs', 'Hogs', 'Dogs', 'Logs'\n",
    "sizes = [15, 30, 45, 10]\n",
    "\n",
    "plt.pie(sizes, labels=labels, autopct='%1.1f%%')\n",
    "plt.show()"
   ]
  },
  {
   "cell_type": "markdown",
   "id": "7a0a66d3-0b55-4823-9d31-f86e01aa29e1",
   "metadata": {},
   "source": [
    "## Grafiku stils"
   ]
  },
  {
   "cell_type": "code",
   "execution_count": null,
   "id": "1f33bbb1-c372-48ae-a592-a68da4460ff7",
   "metadata": {},
   "outputs": [],
   "source": [
    "plt.style.use(\"Solarize_Light2\")\n",
    "plt.pie(sizes, labels=labels, autopct='%1.1f%%',\n",
    "       pctdistance=1.25, labeldistance=.6)\n",
    "plt.show()"
   ]
  },
  {
   "cell_type": "code",
   "execution_count": null,
   "id": "e47cd9f9-5cbd-49d1-9053-b328cb91f126",
   "metadata": {},
   "outputs": [],
   "source": [
    "plt.style.use(\"ggplot\")\n",
    "plt.pie(sizes, labels=labels, autopct='%1.1f%%',\n",
    "       pctdistance=1.25, labeldistance=.6)\n",
    "plt.show()"
   ]
  },
  {
   "cell_type": "markdown",
   "id": "18514ac2-a53a-4aee-8b79-f25c998aac3c",
   "metadata": {},
   "source": [
    "# Seaborn"
   ]
  },
  {
   "cell_type": "markdown",
   "id": "0c668a21-d59a-4f95-b9fe-9dc752194372",
   "metadata": {},
   "source": [
    "## Seaborn stila pielietošana Matplotlib grafikiem"
   ]
  },
  {
   "cell_type": "code",
   "execution_count": null,
   "id": "089a325f-5690-46a5-b052-01f2aefda8fe",
   "metadata": {},
   "outputs": [],
   "source": [
    "import seaborn as sns\n",
    "sns.set()\n",
    "mpg=sns.load_dataset(\"mpg\")\n",
    "x = mpg[\"displacement\"]\n",
    "y = mpg[\"acceleration\"]\n",
    "color = mpg[\"horsepower\"]\n",
    "plt.scatter(x, y, c=color,  cmap=plt.colormaps.get_cmap('jet'))\n",
    "plt.savefig(\"mpg.jpg\")\n",
    "plt.show()"
   ]
  },
  {
   "cell_type": "markdown",
   "id": "1b022e79-8121-4b52-934d-0254a3fbe748",
   "metadata": {},
   "source": [
    "## Seaborn iebūvētas tabulas"
   ]
  },
  {
   "cell_type": "code",
   "execution_count": null,
   "id": "8339c19c-dbba-4cbd-911a-39c04b6162cb",
   "metadata": {},
   "outputs": [],
   "source": [
    "sn.get_dataset_names ()"
   ]
  },
  {
   "cell_type": "code",
   "execution_count": null,
   "id": "95ba4c2e-5a99-4c56-b460-91e9c5fbe964",
   "metadata": {},
   "outputs": [],
   "source": [
    "exercise = sns.load_dataset(\"exercise\")\n",
    "exercise.head()"
   ]
  },
  {
   "cell_type": "markdown",
   "id": "e875ba7d-c5bb-4454-9d1b-8e18e1b3d102",
   "metadata": {},
   "source": [
    "## Izkliedes grafiki"
   ]
  },
  {
   "cell_type": "code",
   "execution_count": null,
   "id": "76ae18a4-b02d-402f-a263-84f7addd7357",
   "metadata": {},
   "outputs": [],
   "source": [
    "tips.head()"
   ]
  },
  {
   "cell_type": "code",
   "execution_count": null,
   "id": "dab1ff0a-00df-4e18-8a83-b1809b92639d",
   "metadata": {},
   "outputs": [],
   "source": [
    "tips = sns.load_dataset(\"tips\")\n",
    "\n",
    "sns.scatterplot(x=\"total_bill\", y=\"tip\", hue=\"smoker\", data=tips)\n",
    "plt.show()"
   ]
  },
  {
   "cell_type": "code",
   "execution_count": null,
   "id": "2f1ee25b-cb3c-4b0f-aea9-88a1130d0dbb",
   "metadata": {},
   "outputs": [],
   "source": [
    "mpg= sns.load_dataset(\"mpg\")\n",
    "sns.scatterplot(data=mpg, x=\"displacement\", y=\"acceleration\", hue=\"origin\")\n",
    "plt.show()"
   ]
  },
  {
   "cell_type": "code",
   "execution_count": null,
   "id": "3484d42b-4f85-4106-8ec8-3a7330654034",
   "metadata": {},
   "outputs": [],
   "source": [
    "mpg= sns.load_dataset(\"mpg\")\n",
    "sns.scatterplot(data=mpg, x=\"displacement\", y=\"acceleration\", style=\"origin\")\n",
    "plt.show()"
   ]
  },
  {
   "cell_type": "code",
   "execution_count": null,
   "id": "345f6203-1712-4749-806e-61889e66a90f",
   "metadata": {},
   "outputs": [],
   "source": [
    "mpg= sns.load_dataset(\"mpg\")\n",
    "sns.scatterplot(data=mpg, x=\"displacement\", y=\"acceleration\", hue=\"origin\", size=\"acceleration\")\n",
    "plt.show()"
   ]
  },
  {
   "cell_type": "markdown",
   "id": "13530af3-2d91-4370-a067-c1fe69f633ee",
   "metadata": {},
   "source": [
    "## Līnijas grafiki"
   ]
  },
  {
   "cell_type": "code",
   "execution_count": null,
   "id": "85eb5881-ea30-4a22-97f0-b1411715fec6",
   "metadata": {},
   "outputs": [],
   "source": [
    "fmri = sns.load_dataset(\"fmri\")\n",
    "\n",
    "sns.lineplot(x=\"timepoint\", y=\"signal\", data=fmri)\n",
    "\n",
    "plt.show()"
   ]
  },
  {
   "cell_type": "code",
   "execution_count": null,
   "id": "f871ca1e-98b4-4dd6-a534-10cec3c92326",
   "metadata": {},
   "outputs": [],
   "source": [
    "fmri.head()"
   ]
  },
  {
   "cell_type": "code",
   "execution_count": null,
   "id": "e57ffa47-46d2-4715-a333-221754dbfa7b",
   "metadata": {},
   "outputs": [],
   "source": [
    "sns.lineplot(x=\"timepoint\", y=\"signal\", hue=\"event\", style=\"region\", markers=False, dashes=True, data=fmri)\n",
    "plt.show()"
   ]
  },
  {
   "cell_type": "code",
   "execution_count": null,
   "id": "40a7c5fd-d283-4b46-999d-1998d036c2c9",
   "metadata": {},
   "outputs": [],
   "source": [
    "flights = sns.load_dataset(\"flights\")\n",
    "sns.lineplot(data=flights, x=\"year\", y=\"passengers\", hue=\"month\")\n",
    "plt.show()"
   ]
  },
  {
   "cell_type": "markdown",
   "id": "054c2364-72da-4ebf-8d57-41ee277f33d5",
   "metadata": {},
   "source": [
    "## Histogrammas"
   ]
  },
  {
   "cell_type": "code",
   "execution_count": null,
   "id": "5dbbd4eb-b5e5-427a-98e9-e4611bece847",
   "metadata": {},
   "outputs": [],
   "source": [
    "tips = sns.load_dataset(\"tips\")\n",
    "sns.histplot(data=tips, x=\"total_bill\")\n",
    "plt.show()"
   ]
  },
  {
   "cell_type": "code",
   "execution_count": null,
   "id": "9bf9d141-da77-4d08-8419-06903baf9c8c",
   "metadata": {},
   "outputs": [],
   "source": [
    "tips = sns.load_dataset(\"tips\")\n",
    "sns.histplot(data=tips, y=\"total_bill\")\n",
    "plt.show()"
   ]
  },
  {
   "cell_type": "code",
   "execution_count": null,
   "id": "939a647a-49f8-4601-8e53-a357bfcab437",
   "metadata": {},
   "outputs": [],
   "source": [
    "iris = sns.load_dataset(\"iris\")\n",
    "\n",
    "sns.histplot(x=\"petal_length\", data=iris)\n",
    "plt.show()"
   ]
  },
  {
   "cell_type": "markdown",
   "id": "29e708c8-e5d8-43e2-9dc4-7874c6512528",
   "metadata": {},
   "source": [
    "## KDE"
   ]
  },
  {
   "cell_type": "code",
   "execution_count": null,
   "id": "4f9c1e84-b124-49fa-b987-bc8a836036d7",
   "metadata": {},
   "outputs": [],
   "source": [
    "sns.histplot(data=iris, x=\"petal_length\", bins=20, kde=True, color=\"green\")\n",
    "plt.show()"
   ]
  },
  {
   "cell_type": "code",
   "execution_count": null,
   "id": "07d160c0-4dad-41c0-ae0b-fc4027874abc",
   "metadata": {},
   "outputs": [],
   "source": [
    "penguins = sns.load_dataset(\"penguins\")\n",
    "sns.histplot(data=penguins, x=\"flipper_length_mm\", hue=\"species\")\n",
    "plt.show()"
   ]
  },
  {
   "cell_type": "markdown",
   "id": "22f8d308-b8a6-49a7-a9b3-e2c768e01523",
   "metadata": {},
   "source": [
    "## Stabiņu grafiku"
   ]
  },
  {
   "cell_type": "code",
   "execution_count": null,
   "id": "afc7e13f-8617-4825-b269-f2edd6a2ad3b",
   "metadata": {},
   "outputs": [],
   "source": [
    "df = sns.load_dataset(\"penguins\")\n",
    "sns.barplot(data=df, x=\"island\", y=\"body_mass_g\")\n",
    "plt.show()"
   ]
  },
  {
   "cell_type": "code",
   "execution_count": null,
   "id": "3cf3901f-a2cc-446d-ae27-2bfa0758d951",
   "metadata": {},
   "outputs": [],
   "source": [
    "df = sns.load_dataset(\"penguins\")\n",
    "sns.barplot(data=df, x=\"body_mass_g\", y=\"island\")\n",
    "plt.show()"
   ]
  },
  {
   "cell_type": "code",
   "execution_count": null,
   "id": "bd48d3af-37b8-4ffc-9a14-c2f958d85284",
   "metadata": {},
   "outputs": [],
   "source": [
    "diamonds = sns.load_dataset(\"diamonds\")\n",
    "sns.barplot(data=diamonds, x=\"color\", y=\"price\")\n",
    "plt.show()"
   ]
  },
  {
   "cell_type": "code",
   "execution_count": null,
   "id": "826c863d-ccab-4c66-bdd5-38e82c578a66",
   "metadata": {},
   "outputs": [],
   "source": [
    "diamonds = sns.load_dataset(\"diamonds\")\n",
    "sns.barplot(data=diamonds, x=\"color\", y=\"price\", hue=\"cut\")\n",
    "plt.show()"
   ]
  },
  {
   "cell_type": "markdown",
   "id": "8d5371cb-324d-4b77-bc03-c37f3dac68c9",
   "metadata": {},
   "source": [
    "## Blīvuma grafiki"
   ]
  },
  {
   "cell_type": "code",
   "execution_count": null,
   "id": "d7898004-3b3f-4318-a7f8-28edf0b835b0",
   "metadata": {},
   "outputs": [],
   "source": [
    "tips = sns.load_dataset(\"tips\")\n",
    "\n",
    "sns.kdeplot(data=tips, x=\"total_bill\")\n",
    "plt.show()"
   ]
  },
  {
   "cell_type": "code",
   "execution_count": null,
   "id": "2364a82a-1829-4454-8d29-162c0d6d118d",
   "metadata": {},
   "outputs": [],
   "source": [
    "tips = sns.load_dataset(\"tips\")\n",
    "\n",
    "sns.kdeplot(data=tips, x=\"total_bill\", hue=\"time\", fill=True, alpha=0.6, linewidth=1.5)\n",
    "plt.show()"
   ]
  },
  {
   "cell_type": "markdown",
   "id": "0113da17-8db6-4cbf-84ca-f94644e820e1",
   "metadata": {},
   "source": [
    "## Kastes diagrammas"
   ]
  },
  {
   "cell_type": "code",
   "execution_count": null,
   "id": "ca3fe259-24ae-493f-88d8-4934c597c525",
   "metadata": {},
   "outputs": [],
   "source": [
    "tips = sns.load_dataset(\"tips\")\n",
    "\n",
    "sns.boxplot(x=\"day\", y=\"total_bill\", data=tips)\n",
    "\n",
    "plt.show()"
   ]
  },
  {
   "cell_type": "code",
   "execution_count": null,
   "id": "7e9cd41e-2781-4f3f-a223-4fce9ad3cedf",
   "metadata": {},
   "outputs": [],
   "source": [
    "sns.boxplot(x=\"day\", y=\"total_bill\", hue=\"time\", data=tips, palette=\"Set3\", linewidth=1.5, fliersize=4)\n",
    "plt.show()"
   ]
  },
  {
   "cell_type": "markdown",
   "id": "2a6bd437-52a3-4487-ab14-d1b3ad55ceb4",
   "metadata": {},
   "source": [
    "## Vijoles grafiki. "
   ]
  },
  {
   "cell_type": "code",
   "execution_count": null,
   "id": "4b1bbe3b-6513-422a-9880-ae1d3b83751c",
   "metadata": {},
   "outputs": [],
   "source": [
    "iris = sns.load_dataset(\"iris\")\n",
    "sns.violinplot(x=\"species\", y=\"petal_length\", data=iris)\n",
    "plt.show()"
   ]
  },
  {
   "cell_type": "markdown",
   "id": "0348d65d-784e-41a3-99d4-366b35571e73",
   "metadata": {},
   "source": [
    "## Pāru grafiki (pair plots)"
   ]
  },
  {
   "cell_type": "code",
   "execution_count": null,
   "id": "bacab34c-d8a1-4fc3-be41-d7d6e2826575",
   "metadata": {},
   "outputs": [],
   "source": [
    "iris = sns.load_dataset(\"iris\")\n",
    "sns.pairplot(data=iris)\n",
    "plt.show()"
   ]
  },
  {
   "cell_type": "code",
   "execution_count": null,
   "id": "aa3e453e-7655-4a99-ae75-c391d0a6e36c",
   "metadata": {},
   "outputs": [],
   "source": [
    "sns.pairplot(data=iris, hue=\"species\", diag_kind=\"kde\", palette=\"husl\")\n",
    "plt.show()"
   ]
  },
  {
   "cell_type": "markdown",
   "id": "fd7d4139-114b-411f-89b6-aad1a978b355",
   "metadata": {},
   "source": [
    "## Apvienotie grafiki (joint plots)"
   ]
  },
  {
   "cell_type": "code",
   "execution_count": null,
   "id": "472dcbf4-b84b-4bc0-bcc7-32ea90278c9a",
   "metadata": {},
   "outputs": [],
   "source": [
    "iris = sns.load_dataset(\"iris\")\n",
    "\n",
    "sns.jointplot(x=\"sepal_length\", y=\"sepal_width\", data=iris)\n",
    "\n",
    "plt.show()"
   ]
  },
  {
   "cell_type": "markdown",
   "id": "ac4683ec-c8e9-44ab-91be-81628a65cae5",
   "metadata": {},
   "source": [
    "## Kārtojuma režģis (facet grids) un attiecināti grafiki (relational plots)"
   ]
  },
  {
   "cell_type": "code",
   "execution_count": null,
   "id": "50329a8c-ac00-4bfc-8b68-87bced7f4202",
   "metadata": {},
   "outputs": [],
   "source": [
    "tips = sns.load_dataset('tips')\n",
    "\n",
    "g = sns.FacetGrid(tips, col=\"day\")\n",
    "g.map(sns.histplot, \"total_bill\")\n",
    "plt.show()"
   ]
  },
  {
   "cell_type": "markdown",
   "id": "4b05bfa6-c2fa-4d74-8762-6c764f8f1408",
   "metadata": {},
   "source": [
    "## relplot()"
   ]
  },
  {
   "cell_type": "code",
   "execution_count": null,
   "id": "57a963f0-8e1e-4101-93ef-2cf03ad9fb97",
   "metadata": {},
   "outputs": [],
   "source": [
    "tips = sns.load_dataset(\"tips\")\n",
    "\n",
    "sns.relplot(\n",
    "    data=tips,\n",
    "    x=\"total_bill\", y=\"tip\", col=\"time\",\n",
    "    hue=\"smoker\", size=\"size\",\n",
    ")\n",
    "plt.show()"
   ]
  },
  {
   "cell_type": "code",
   "execution_count": null,
   "id": "f78c7c95-608f-48d2-96ab-b1b9eeafaada",
   "metadata": {},
   "outputs": [],
   "source": [
    "dots = sns.load_dataset(\"dots\")\n",
    "dots.head()"
   ]
  },
  {
   "cell_type": "code",
   "execution_count": null,
   "id": "935d2e12-6a8c-4c18-affe-89be57bcb2d4",
   "metadata": {},
   "outputs": [],
   "source": [
    "sns.relplot(\n",
    "    data=dots, kind=\"line\",\n",
    "    x=\"time\", y=\"firing_rate\", col=\"align\",\n",
    "    hue=\"choice\", size=\"coherence\", style=\"choice\",\n",
    "    facet_kws=dict(sharex=False),\n",
    ")\n",
    "plt.show()"
   ]
  },
  {
   "cell_type": "markdown",
   "id": "8f69e5d2-dab0-49a6-a263-2b7a73e15248",
   "metadata": {},
   "source": [
    "## Grafiku noformēšana "
   ]
  },
  {
   "cell_type": "code",
   "execution_count": null,
   "id": "e3c20def-430c-44bc-9779-7f2faadf0595",
   "metadata": {},
   "outputs": [],
   "source": [
    "iris = sns.load_dataset(\"iris\")\n",
    "\n",
    "sns.histplot(data=iris, x=\"petal_length\", bins=20, kde=True, color=\"green\")\n",
    "\n",
    "\n",
    "plt.xlabel(\"Petal Length (cm)\")\n",
    "\n",
    "plt.ylabel(\"Frequency\")\n",
    "\n",
    "plt.title(\"Distribution of Petal Lengths in Iris Flowers\")\n",
    "\n",
    "\n",
    "plt.show()"
   ]
  },
  {
   "cell_type": "code",
   "execution_count": null,
   "id": "47d46c95-44f2-4658-be94-e0ac2a8379c4",
   "metadata": {},
   "outputs": [],
   "source": [
    "iris = sns.load_dataset(\"iris\")\n",
    "\n",
    "sns.histplot(data=iris, x=\"petal_length\", bins=20, kde=True, color=\"green\").set(title=\"Distribution of Petal Lengths in Iris Flowers\",\n",
    "                                                                                xlabel = \"Petal Length (cm)\",\n",
    "                                                                                ylabel = \"Frequency\")\n",
    "\n",
    "\n",
    "\n",
    "plt.show()"
   ]
  },
  {
   "cell_type": "markdown",
   "id": "9580f2f0-5e68-4b47-91cb-c458e9ea3317",
   "metadata": {},
   "source": [
    "## Krāsu paletes"
   ]
  },
  {
   "cell_type": "code",
   "execution_count": null,
   "id": "2831c246-0ebe-4545-8b44-a53eb73a2283",
   "metadata": {},
   "outputs": [],
   "source": [
    "import seaborn as sns\n",
    "\n",
    "import matplotlib.pyplot as plt\n",
    "\n",
    "tips = sns.load_dataset(\"tips\")\n",
    "\n",
    "sns.scatterplot(x=\"total_bill\", y=\"tip\", hue=\"day\", data=tips, palette=\"Set2\")\n",
    "plt.show()"
   ]
  },
  {
   "cell_type": "markdown",
   "id": "58adc876-8b38-4ecd-b91f-a1bc5bd5bffa",
   "metadata": {},
   "source": [
    "## Grafika un fonta izmēra maiņa"
   ]
  },
  {
   "cell_type": "code",
   "execution_count": null,
   "id": "fc393a45-497b-4b75-b0f3-05a959bbe080",
   "metadata": {},
   "outputs": [],
   "source": [
    "import seaborn as sns\n",
    "import matplotlib.pyplot as plt\n",
    "\n",
    "tips = sns.load_dataset(\"tips\")\n",
    "\n",
    "width = 20\n",
    "height = 8\n",
    "sns.set(rc = {'figure.figsize':(width,height)})\n",
    "\n",
    "sns.set(font_scale=1.5)\n",
    "\n",
    "sns.scatterplot(x=\"total_bill\", y=\"tip\", data=tips)\n",
    "\n",
    "plt.show()"
   ]
  },
  {
   "cell_type": "markdown",
   "id": "58b495ef-4b0f-45d2-9174-b64a070a0c45",
   "metadata": {},
   "source": [
    "## Leģendas pozīcijas maiņa"
   ]
  },
  {
   "cell_type": "code",
   "execution_count": null,
   "id": "a0997c8e-3aea-4911-a2b2-c077930f6da4",
   "metadata": {},
   "outputs": [],
   "source": [
    "penguins = sns.load_dataset(\"penguins\")\n",
    "ax = sns.histplot(penguins, x=\"bill_length_mm\", hue=\"species\")\n",
    "sns.move_legend(ax, \"center right\")"
   ]
  },
  {
   "cell_type": "code",
   "execution_count": null,
   "id": "112e85a1-048a-45f9-b6c9-10c4f1898052",
   "metadata": {},
   "outputs": [],
   "source": [
    "ax = sns.histplot(penguins, x=\"bill_length_mm\", hue=\"species\")\n",
    "sns.move_legend(ax, \"upper left\", bbox_to_anchor=(1, 1))"
   ]
  },
  {
   "cell_type": "code",
   "execution_count": null,
   "id": "d91fb535-2a93-430c-8f2d-dc82c9e7c981",
   "metadata": {},
   "outputs": [],
   "source": [
    "ax = sns.histplot(penguins, x=\"bill_length_mm\", hue=\"species\")\n",
    "sns.move_legend(\n",
    "    ax, \"lower center\",\n",
    "    bbox_to_anchor=(.5, 1), ncol=3, title=None, frameon=False,\n",
    ")"
   ]
  },
  {
   "cell_type": "markdown",
   "id": "3bcaeb65-17cb-455f-8bc4-2bfea52b92bc",
   "metadata": {},
   "source": [
    "## Tēmas "
   ]
  },
  {
   "cell_type": "code",
   "execution_count": null,
   "id": "6e160db5-b9e0-4399-9fe4-74df32c88ba0",
   "metadata": {},
   "outputs": [],
   "source": [
    "sns.set_theme(style=\"whitegrid\", palette=\"pastel\")\n",
    "sns.barplot(x=[\"A\", \"B\", \"C\"], y=[1, 3, 2])\n",
    "plt.show()"
   ]
  },
  {
   "cell_type": "code",
   "execution_count": null,
   "id": "33a6d21c-b4f9-434a-9963-b36b14692590",
   "metadata": {},
   "outputs": [],
   "source": [
    "sns.set_theme(style=\"white\", palette=None)\n",
    "sns.barplot(x=[\"A\", \"B\", \"C\"], y=[1, 3, 2])\n",
    "plt.show()"
   ]
  },
  {
   "cell_type": "code",
   "execution_count": null,
   "id": "9af90384-8fcb-4429-a741-4d4f02e927b1",
   "metadata": {},
   "outputs": [],
   "source": [
    "custom_params = {\"axes.spines.right\": False, \"axes.spines.top\": False}\n",
    "sns.set_theme(style=\"ticks\", rc=custom_params)\n",
    "sns.barplot(x=[\"A\", \"B\", \"C\"], y=[1, 3, 2])\n",
    "plt.show()"
   ]
  },
  {
   "cell_type": "markdown",
   "id": "c1659ca8-23c4-4ddf-b766-4c53b38188bc",
   "metadata": {},
   "source": [
    "# Ieskats Plotly"
   ]
  },
  {
   "cell_type": "code",
   "execution_count": null,
   "id": "d6c9efe1-486e-4c17-8268-67b14f98d60e",
   "metadata": {},
   "outputs": [],
   "source": [
    "import plotly.express as px"
   ]
  },
  {
   "cell_type": "raw",
   "id": "8cb806aa-91f0-451d-bdf3-5ef53122f6c4",
   "metadata": {},
   "source": [
    "Formula\n",
    "\n",
    "fig = px.plotting_function(\n",
    "    dataframe,\n",
    "    x='column-for-xaxis',\n",
    "    y='column-for-yaxis',\n",
    "    title='Title For the Plot',\n",
    "    width=width_in_pixels,\n",
    "    height=height_in_pixels\n",
    ")\n",
    "\n",
    "fig.show()"
   ]
  },
  {
   "cell_type": "code",
   "execution_count": null,
   "id": "3ec79a90-39e7-4109-906e-83a355300a79",
   "metadata": {},
   "outputs": [],
   "source": [
    "import seaborn as sns\n",
    "diamonds = sns.load_dataset(\"diamonds\")"
   ]
  },
  {
   "cell_type": "code",
   "execution_count": null,
   "id": "0d09e4a7-a1a6-43c9-b68b-c820b683c143",
   "metadata": {},
   "outputs": [],
   "source": [
    "fig = px.histogram(\n",
    "  diamonds,\n",
    "  x=\"price\",\n",
    "  title=\"Histogram of diamond prices\",\n",
    "  width=600,\n",
    "  height=400,\n",
    ")\n",
    "fig.show()"
   ]
  },
  {
   "cell_type": "code",
   "execution_count": null,
   "id": "924aeb42-023d-4f40-9fe9-9a9e9548ef42",
   "metadata": {},
   "outputs": [],
   "source": [
    "fig = px.histogram(diamonds, x=\"cut\")\n",
    "\n",
    "fig.show()"
   ]
  },
  {
   "cell_type": "code",
   "execution_count": null,
   "id": "0053e637-bd68-4ce6-84f2-74dfab96a939",
   "metadata": {},
   "outputs": [],
   "source": [
    "fig.update_layout(\n",
    "  title=\"The number of diamonds in each diamond cut category\",\n",
    "  xaxis_title=\"\",\n",
    "  yaxis_title=\"Count\",\n",
    ")"
   ]
  },
  {
   "cell_type": "code",
   "execution_count": null,
   "id": "dbfb757b-96cb-47b0-b08c-f79cafe8da64",
   "metadata": {},
   "outputs": [],
   "source": [
    "mean_prices = (\n",
    "    diamonds.groupby(\"cut\")[\"price\"].mean().reset_index()\n",
    ")\n",
    "\n",
    "mean_prices"
   ]
  },
  {
   "cell_type": "code",
   "execution_count": null,
   "id": "abfdddbf-6fbf-4201-920a-c52816b76809",
   "metadata": {},
   "outputs": [],
   "source": [
    "fig = px.bar(mean_prices, x=\"cut\", y=\"price\")\n",
    "\n",
    "fig.update_layout(\n",
    "  title=\"Average diamond prices for each cut category\",\n",
    "  xaxis_title=\"\",\n",
    "  yaxis_title=\"Mean price ($)\",\n",
    ")\n",
    "\n",
    "fig.show()"
   ]
  },
  {
   "cell_type": "code",
   "execution_count": null,
   "id": "980a9f90-2e72-4df0-bb64-b5ae247ad5e7",
   "metadata": {},
   "outputs": [],
   "source": [
    "fig = px.box(diamonds, x=\"clarity\", y=\"carat\")\n",
    "\n",
    "fig.update_layout(\n",
    "  title=\"Distribution of diamond carats for each clarity category\",\n",
    "  xaxis_title=\"Clarity\",\n",
    "  yaxis_title=\"Carat\",\n",
    ")\n",
    "\n",
    "fig.show()"
   ]
  },
  {
   "cell_type": "code",
   "execution_count": null,
   "id": "0a825246-24f0-4b5d-9178-1746d0149896",
   "metadata": {},
   "outputs": [],
   "source": [
    "fig = px.violin(diamonds, x=\"cut\", y=\"price\")\n",
    "\n",
    "fig.show()"
   ]
  },
  {
   "cell_type": "code",
   "execution_count": null,
   "id": "59d2a7fc-79b1-46fe-831c-015974d164b4",
   "metadata": {},
   "outputs": [],
   "source": [
    "fig = px.violin(diamonds, x=\"cut\", y=\"price\", box=True)\n",
    "\n",
    "fig.show()"
   ]
  },
  {
   "cell_type": "code",
   "execution_count": null,
   "id": "aa6a0720-4dab-430f-b70b-7c367f26cc18",
   "metadata": {},
   "outputs": [],
   "source": [
    "fig = px.scatter(diamonds, x=\"price\", y=\"carat\")\n",
    "\n",
    "fig.update_layout(\n",
    "  title=\"Price vs. Carat\",\n",
    "  xaxis_title=\"Price ($)\",\n",
    "  yaxis_title=\"Carat\",\n",
    ")\n",
    "\n",
    "fig.show()"
   ]
  },
  {
   "cell_type": "code",
   "execution_count": null,
   "id": "fb0a8daa-a02e-4120-8de3-f4fef2c476b1",
   "metadata": {},
   "outputs": [],
   "source": [
    "fig = px.scatter(\n",
    "  diamonds.sample(5000), x=\"price\", y=\"carat\"\n",
    ")\n",
    "\n",
    "fig.update_layout(\n",
    "  title=\"Price vs. Carat\",\n",
    "  xaxis_title=\"Price ($)\",\n",
    "  yaxis_title=\"Carat\",\n",
    ")\n",
    "\n",
    "fig.show()"
   ]
  },
  {
   "cell_type": "code",
   "execution_count": null,
   "id": "fe2ed57c-6bc0-4c01-bb13-0c97f7ec7b7d",
   "metadata": {},
   "outputs": [],
   "source": [
    "sample = diamonds.sample(3000)\n",
    "\n",
    "fig = px.scatter(\n",
    "  sample, x=\"price\", y=\"carat\", template=\"ggplot2\"\n",
    ")\n",
    "\n",
    "fig.show()"
   ]
  },
  {
   "cell_type": "code",
   "execution_count": null,
   "id": "392a778f-6b51-4d76-bab9-fa08792d1ea2",
   "metadata": {},
   "outputs": [],
   "source": [
    "sample = diamonds.sample(3000)\n",
    "\n",
    "fig = px.scatter(sample, x=\"price\", y=\"carat\", color=\"cut\")\n",
    "\n",
    "fig.show()"
   ]
  },
  {
   "cell_type": "code",
   "execution_count": null,
   "id": "231e9039-3850-41f1-af39-92768b54f0e3",
   "metadata": {},
   "outputs": [],
   "source": [
    "fig = px.scatter(sample, x=\"price\", y=\"x\", size=\"carat\")\n",
    "\n",
    "fig.show()"
   ]
  },
  {
   "cell_type": "code",
   "execution_count": null,
   "id": "9139a7f7-6908-4d2a-be5c-8c84ba0928a2",
   "metadata": {},
   "outputs": [],
   "source": [
    "fig = px.scatter(\n",
    "  sample, x=\"price\", y=\"x\", size=\"carat\", color=\"cut\"\n",
    ")\n",
    "\n",
    "fig.show()"
   ]
  }
 ],
 "metadata": {
  "kernelspec": {
   "display_name": "Python 3 (ipykernel)",
   "language": "python",
   "name": "python3"
  },
  "language_info": {
   "codemirror_mode": {
    "name": "ipython",
    "version": 3
   },
   "file_extension": ".py",
   "mimetype": "text/x-python",
   "name": "python",
   "nbconvert_exporter": "python",
   "pygments_lexer": "ipython3",
   "version": "3.10.9"
  }
 },
 "nbformat": 4,
 "nbformat_minor": 5
}
